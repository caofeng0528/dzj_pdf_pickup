{
 "cells": [
  {
   "cell_type": "code",
   "execution_count": 2,
   "id": "b70a2ad6",
   "metadata": {},
   "outputs": [],
   "source": [
    "import pdfplumber\n",
    "import pandas as pd\n",
    "import re\n",
    "import string"
   ]
  },
  {
   "cell_type": "code",
   "execution_count": 3,
   "id": "250a6f83",
   "metadata": {
    "collapsed": true
   },
   "outputs": [
    {
     "ename": "FileNotFoundError",
     "evalue": "[Errno 2] No such file or directory: 'D:\\\\disease_pdf\\\\医学\\\\参考资料\\\\医学教材\\\\《妇产科学》人卫第9版教材--高清彩色.pdf'",
     "output_type": "error",
     "traceback": [
      "\u001b[0;31m---------------------------------------------------------------------------\u001b[0m",
      "\u001b[0;31mFileNotFoundError\u001b[0m                         Traceback (most recent call last)",
      "\u001b[0;32m/tmp/ipykernel_15667/131388323.py\u001b[0m in \u001b[0;36m<module>\u001b[0;34m\u001b[0m\n\u001b[1;32m      1\u001b[0m \u001b[0mtext\u001b[0m \u001b[0;34m=\u001b[0m \u001b[0;34m[\u001b[0m\u001b[0;34m]\u001b[0m\u001b[0;34m\u001b[0m\u001b[0;34m\u001b[0m\u001b[0m\n\u001b[0;32m----> 2\u001b[0;31m \u001b[0;32mwith\u001b[0m \u001b[0mpdfplumber\u001b[0m\u001b[0;34m.\u001b[0m\u001b[0mopen\u001b[0m\u001b[0;34m(\u001b[0m\u001b[0;34mr'D:\\disease_pdf\\医学\\参考资料\\医学教材\\《妇产科学》人卫第9版教材--高清彩色.pdf'\u001b[0m\u001b[0;34m)\u001b[0m \u001b[0;32mas\u001b[0m \u001b[0mpdf\u001b[0m\u001b[0;34m:\u001b[0m\u001b[0;34m\u001b[0m\u001b[0;34m\u001b[0m\u001b[0m\n\u001b[0m\u001b[1;32m      3\u001b[0m     \u001b[0;32mfor\u001b[0m \u001b[0mi\u001b[0m \u001b[0;32min\u001b[0m \u001b[0mrange\u001b[0m\u001b[0;34m(\u001b[0m\u001b[0mlen\u001b[0m\u001b[0;34m(\u001b[0m\u001b[0mpdf\u001b[0m\u001b[0;34m.\u001b[0m\u001b[0mpages\u001b[0m\u001b[0;34m)\u001b[0m\u001b[0;34m)\u001b[0m\u001b[0;34m:\u001b[0m\u001b[0;34m\u001b[0m\u001b[0;34m\u001b[0m\u001b[0m\n\u001b[1;32m      4\u001b[0m         \u001b[0mfirst_page\u001b[0m \u001b[0;34m=\u001b[0m \u001b[0mpdf\u001b[0m\u001b[0;34m.\u001b[0m\u001b[0mpages\u001b[0m\u001b[0;34m[\u001b[0m\u001b[0mi\u001b[0m\u001b[0;34m]\u001b[0m\u001b[0;34m\u001b[0m\u001b[0;34m\u001b[0m\u001b[0m\n\u001b[1;32m      5\u001b[0m         \u001b[0mtext\u001b[0m\u001b[0;34m.\u001b[0m\u001b[0mappend\u001b[0m\u001b[0;34m(\u001b[0m\u001b[0mfirst_page\u001b[0m\u001b[0;34m.\u001b[0m\u001b[0mextract_text\u001b[0m\u001b[0;34m(\u001b[0m\u001b[0;34m)\u001b[0m\u001b[0;34m)\u001b[0m\u001b[0;34m\u001b[0m\u001b[0;34m\u001b[0m\u001b[0m\n",
      "\u001b[0;32m~/anaconda3/lib/python3.8/site-packages/pdfplumber/pdf.py\u001b[0m in \u001b[0;36mopen\u001b[0;34m(cls, path_or_fp, **kwargs)\u001b[0m\n\u001b[1;32m     52\u001b[0m     \u001b[0;32mdef\u001b[0m \u001b[0mopen\u001b[0m\u001b[0;34m(\u001b[0m\u001b[0mcls\u001b[0m\u001b[0;34m,\u001b[0m \u001b[0mpath_or_fp\u001b[0m\u001b[0;34m,\u001b[0m \u001b[0;34m**\u001b[0m\u001b[0mkwargs\u001b[0m\u001b[0;34m)\u001b[0m\u001b[0;34m:\u001b[0m\u001b[0;34m\u001b[0m\u001b[0;34m\u001b[0m\u001b[0m\n\u001b[1;32m     53\u001b[0m         \u001b[0;32mif\u001b[0m \u001b[0misinstance\u001b[0m\u001b[0;34m(\u001b[0m\u001b[0mpath_or_fp\u001b[0m\u001b[0;34m,\u001b[0m \u001b[0;34m(\u001b[0m\u001b[0mstr\u001b[0m\u001b[0;34m,\u001b[0m \u001b[0mpathlib\u001b[0m\u001b[0;34m.\u001b[0m\u001b[0mPath\u001b[0m\u001b[0;34m)\u001b[0m\u001b[0;34m)\u001b[0m\u001b[0;34m:\u001b[0m\u001b[0;34m\u001b[0m\u001b[0;34m\u001b[0m\u001b[0m\n\u001b[0;32m---> 54\u001b[0;31m             \u001b[0mfp\u001b[0m \u001b[0;34m=\u001b[0m \u001b[0mopen\u001b[0m\u001b[0;34m(\u001b[0m\u001b[0mpath_or_fp\u001b[0m\u001b[0;34m,\u001b[0m \u001b[0;34m\"rb\"\u001b[0m\u001b[0;34m)\u001b[0m\u001b[0;34m\u001b[0m\u001b[0;34m\u001b[0m\u001b[0m\n\u001b[0m\u001b[1;32m     55\u001b[0m             \u001b[0minst\u001b[0m \u001b[0;34m=\u001b[0m \u001b[0mcls\u001b[0m\u001b[0;34m(\u001b[0m\u001b[0mfp\u001b[0m\u001b[0;34m,\u001b[0m \u001b[0;34m**\u001b[0m\u001b[0mkwargs\u001b[0m\u001b[0;34m)\u001b[0m\u001b[0;34m\u001b[0m\u001b[0;34m\u001b[0m\u001b[0m\n\u001b[1;32m     56\u001b[0m             \u001b[0minst\u001b[0m\u001b[0;34m.\u001b[0m\u001b[0mclose_file\u001b[0m \u001b[0;34m=\u001b[0m \u001b[0mfp\u001b[0m\u001b[0;34m.\u001b[0m\u001b[0mclose\u001b[0m\u001b[0;34m\u001b[0m\u001b[0;34m\u001b[0m\u001b[0m\n",
      "\u001b[0;31mFileNotFoundError\u001b[0m: [Errno 2] No such file or directory: 'D:\\\\disease_pdf\\\\医学\\\\参考资料\\\\医学教材\\\\《妇产科学》人卫第9版教材--高清彩色.pdf'"
     ]
    }
   ],
   "source": [
    "text = []\n",
    "with pdfplumber.open('./xxxx.pdf') as pdf:\n",
    "    for i in range(len(pdf.pages)):\n",
    "        first_page = pdf.pages[i]\n",
    "        text.append(first_page.extract_text())\n",
    "        \n",
    "# text\n",
    "new_text = text[91:]\n",
    "\n",
    "a=  []\n",
    "for i in new_text:\n",
    "    if i == None:\n",
    "        continue\n",
    "    else:\n",
    "        a.append(i)\n",
    "new_text_join = ''.join(a)\n",
    "\n",
    "jie_text = re.split('(第.+节.+\\n)',new_text_join)\n",
    "jie_name = re.findall('(第.+节.+\\n)',new_text_join)\n",
    "\n",
    "miss = [jie_name[1]]+[jie_name[33]]+[jie_name[89]]+[jie_name[92]]+[jie_name[101]]+[jie_name[132]]\n",
    "# jie_name.pop(30)\n",
    "for i in jie_name:\n",
    "    if '概 论' in i:\n",
    "        jie_name.remove(i) \n",
    "    for j in miss:\n",
    "        if j in i:   \n",
    "            jie_name.remove(i)\n",
    "\n",
    "fuhao_s = ('（', '【', '[')\n",
    "fuhao_e = ('】', '）', ']')\n",
    "\n",
    "disease_text = []\n",
    "for i in jie_name:\n",
    "    jie_index = jie_text.index(i)\n",
    "    if jie_index < len(jie_text):\n",
    "        jie_describe = jie_text[jie_index+1]\n",
    "        disease_text.append(jie_describe)\n",
    "data = pd.DataFrame({'disease':jie_name,'text':disease_text})\n",
    "data['text_normal'] = ''\n",
    "\n",
    "reg = \"[^0-9A-Za-z\\u4e00-\\u9fa5]\"\n",
    "\n",
    "for i,row in data.iterrows():\n",
    "    disease_text = row['text']\n",
    "    text_dict = {}\n",
    "    text_dict['描述'] = []\n",
    "    word = re.split(r'(（.+】|【.+）|［.+］|【.+】|【.+］|[.+】|【.+])',disease_text)    \n",
    "    for j in word:\n",
    "        key = re.sub(reg,'',j)\n",
    "        j_index = word.index(j)\n",
    "        if j_index < len(word):\n",
    "            if j_index >= 1:\n",
    "                if j.startswith(fuhao_s) and j.endswith(fuhao_e):\n",
    "                    if j in text_dict:                       \n",
    "                        text_dict[key] += word[word.index(j)+1]\n",
    "                    else:\n",
    "                        text_dict[key] = word[j_index+1]\n",
    "                else:\n",
    "                    continue \n",
    "            else:\n",
    "                text_dict.get('描述').append(word[j_index])\n",
    "        else:\n",
    "            text_dict.get('描述').append(word[j_index])\n",
    "    data.loc[data['disease']==row['disease'],'text_normal'] = [text_dict]\n",
    "signtext = string.punctuation + '\\n'+ '。'+'）'+'“'+'”'+'，'+'O'+'0'\n",
    "data['disease'] = data['disease'].apply(lambda x:x.translate(str.maketrans('', '', signtext))).apply(lambda x:x.replace(' ','')).apply(lambda x:re.findall('(?<=节).*',x)).apply(lambda x: \",\".join(x) if isinstance(x,list) else x)\n",
    "data"
   ]
  }
 ],
 "metadata": {
  "kernelspec": {
   "display_name": "Python 3 (ipykernel)",
   "language": "python",
   "name": "python3"
  },
  "language_info": {
   "codemirror_mode": {
    "name": "ipython",
    "version": 3
   },
   "file_extension": ".py",
   "mimetype": "text/x-python",
   "name": "python",
   "nbconvert_exporter": "python",
   "pygments_lexer": "ipython3",
   "version": "3.8.8"
  }
 },
 "nbformat": 4,
 "nbformat_minor": 5
}
